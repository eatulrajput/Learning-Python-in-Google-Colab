{
  "nbformat": 4,
  "nbformat_minor": 0,
  "metadata": {
    "colab": {
      "provenance": [],
      "authorship_tag": "ABX9TyMLNciqJOwuyJDQV2SKDep8"
    },
    "kernelspec": {
      "name": "python3",
      "display_name": "Python 3"
    },
    "language_info": {
      "name": "python"
    }
  },
  "cells": [
    {
      "cell_type": "markdown",
      "source": [
        "I connected my google drive here!"
      ],
      "metadata": {
        "id": "S0wHl2BQienJ"
      }
    },
    {
      "cell_type": "code",
      "execution_count": 1,
      "metadata": {
        "colab": {
          "base_uri": "https://localhost:8080/"
        },
        "id": "om6Tp7IjiHbj",
        "outputId": "490e0073-9d0f-4554-e79d-413219dc27bd"
      },
      "outputs": [
        {
          "output_type": "stream",
          "name": "stdout",
          "text": [
            "Mounted at /content/drive\n"
          ]
        }
      ],
      "source": [
        "from google.colab import drive\n",
        "drive.mount('/content/drive')"
      ]
    },
    {
      "cell_type": "code",
      "source": [
        "a = 10  # assigning value to a = 10\n",
        "b = 20 # assigning value to b = 20\n",
        "c = a + b # it will give the sum of a and b and then, assign it to c\n",
        "print(c) # It will print 30 because a + b = c = 10 + 20 = 30;"
      ],
      "metadata": {
        "colab": {
          "base_uri": "https://localhost:8080/"
        },
        "id": "xybuWTdfimgB",
        "outputId": "4a49f2d6-ab27-47f0-feca-b36c260e22bf"
      },
      "execution_count": 2,
      "outputs": [
        {
          "output_type": "stream",
          "name": "stdout",
          "text": [
            "30\n"
          ]
        }
      ]
    },
    {
      "cell_type": "markdown",
      "source": [
        "type will tell you variable type"
      ],
      "metadata": {
        "id": "CZ5BnW4XjvSW"
      }
    },
    {
      "cell_type": "code",
      "source": [
        "a = 10\n",
        "type(a)"
      ],
      "metadata": {
        "colab": {
          "base_uri": "https://localhost:8080/"
        },
        "id": "iYsg7ud3jobw",
        "outputId": "5db629cd-4982-4d38-9d36-89730ee9219e"
      },
      "execution_count": 5,
      "outputs": [
        {
          "output_type": "execute_result",
          "data": {
            "text/plain": [
              "int"
            ]
          },
          "metadata": {},
          "execution_count": 5
        }
      ]
    },
    {
      "cell_type": "code",
      "source": [
        "b = 10.43\n",
        "type(b)"
      ],
      "metadata": {
        "colab": {
          "base_uri": "https://localhost:8080/"
        },
        "id": "KTH2f9MVkA8N",
        "outputId": "3d25fe6b-bc3c-4cf4-85a0-05355f7600a3"
      },
      "execution_count": 6,
      "outputs": [
        {
          "output_type": "execute_result",
          "data": {
            "text/plain": [
              "float"
            ]
          },
          "metadata": {},
          "execution_count": 6
        }
      ]
    },
    {
      "cell_type": "code",
      "source": [
        "a = \"Rohan\"\n",
        "print(a)"
      ],
      "metadata": {
        "colab": {
          "base_uri": "https://localhost:8080/"
        },
        "id": "04tL1uy3kIye",
        "outputId": "140a9c08-f333-4c48-f1e3-89b990e95abc"
      },
      "execution_count": 7,
      "outputs": [
        {
          "output_type": "stream",
          "name": "stdout",
          "text": [
            "Rohan\n"
          ]
        }
      ]
    },
    {
      "cell_type": "code",
      "source": [
        "# I am comment\n",
        "# Text after '#' is defined as single line comment"
      ],
      "metadata": {
        "id": "v4qcb2R4kO0-"
      },
      "execution_count": 9,
      "outputs": []
    },
    {
      "cell_type": "code",
      "source": [
        "a = \"Rohan\" #myname\n",
        "print(a)"
      ],
      "metadata": {
        "colab": {
          "base_uri": "https://localhost:8080/"
        },
        "id": "cC-1-epFlvHG",
        "outputId": "e49a354e-a5bc-4116-faa7-7db78dd26253"
      },
      "execution_count": 15,
      "outputs": [
        {
          "output_type": "stream",
          "name": "stdout",
          "text": [
            "Rohan\n"
          ]
        }
      ]
    },
    {
      "cell_type": "code",
      "source": [
        "a = \"Rohan\" #myname\n",
        "type(a) # string type"
      ],
      "metadata": {
        "colab": {
          "base_uri": "https://localhost:8080/"
        },
        "id": "iLJQm8ollqu1",
        "outputId": "c25ac366-bb30-43d7-d4ee-3e94919dd5e4"
      },
      "execution_count": 16,
      "outputs": [
        {
          "output_type": "execute_result",
          "data": {
            "text/plain": [
              "str"
            ]
          },
          "metadata": {},
          "execution_count": 16
        }
      ]
    },
    {
      "cell_type": "code",
      "source": [
        "a = \"Rohan\"#myname\n",
        "# Indexing is as we studied in array, indexing starts from 0;\n",
        "a[2] # Print h\n",
        "# as we know 0 = R, 1 = o, 2 = h, 3 = a, 4 = n"
      ],
      "metadata": {
        "colab": {
          "base_uri": "https://localhost:8080/",
          "height": 35
        },
        "id": "_NTo641BmEFN",
        "outputId": "76729633-7e06-4ef0-cb0b-ae4d7c17973b"
      },
      "execution_count": 18,
      "outputs": [
        {
          "output_type": "execute_result",
          "data": {
            "text/plain": [
              "'h'"
            ],
            "application/vnd.google.colaboratory.intrinsic+json": {
              "type": "string"
            }
          },
          "metadata": {},
          "execution_count": 18
        }
      ]
    },
    {
      "cell_type": "code",
      "source": [
        "a = \"Rohan\" #myname\n",
        "type(a)\n",
        "# Indexing is as we studied in array, indexing starts from 0;\n",
        "a[2] # Print h\n",
        "a[4] ==a[-1] # In Python, negative indexing is used to access elements from the end of a sequence,\n",
        "#such as a string, that is why it will give True otherwise false"
      ],
      "metadata": {
        "colab": {
          "base_uri": "https://localhost:8080/"
        },
        "id": "crkf3nTsmeLL",
        "outputId": "bfe6df7e-90fe-44d2-b105-dd222c9d74f1"
      },
      "execution_count": 22,
      "outputs": [
        {
          "output_type": "execute_result",
          "data": {
            "text/plain": [
              "True"
            ]
          },
          "metadata": {},
          "execution_count": 22
        }
      ]
    },
    {
      "cell_type": "markdown",
      "source": [
        "\n",
        "In Python, when you use slicing with the syntax a[start:end], it returns a portion of the string starting from the index start up to (but not including) the index end."
      ],
      "metadata": {
        "id": "34fIgUxlnwd8"
      }
    },
    {
      "cell_type": "markdown",
      "source": [
        "a[1:3] means you are slicing the string a from index 1 to index 3. Remember, Python uses 0-based indexing, so index 1 corresponds to the second character, and index 3 corresponds to the fourth character.\n",
        "Therefore, a[1:3] will give you the substring \"oh\", which includes the characters at index 1 and 2 (but not 3). Hence, when you print a[1:3], it outputs \"oh\"."
      ],
      "metadata": {
        "id": "vfSkGLh-oICb"
      }
    },
    {
      "cell_type": "code",
      "source": [
        "a = \"Rohan\" #myname\n",
        "a[1:3] # It will read 1,2 only"
      ],
      "metadata": {
        "colab": {
          "base_uri": "https://localhost:8080/",
          "height": 35
        },
        "id": "XXC7F5yHnf0r",
        "outputId": "a98f70f0-14df-4e3e-9636-6890eedcd7ee"
      },
      "execution_count": 23,
      "outputs": [
        {
          "output_type": "execute_result",
          "data": {
            "text/plain": [
              "'oh'"
            ],
            "application/vnd.google.colaboratory.intrinsic+json": {
              "type": "string"
            }
          },
          "metadata": {},
          "execution_count": 23
        }
      ]
    },
    {
      "cell_type": "code",
      "source": [
        "a = \"Rohan\" #myname\n",
        "a[1:4] # It will read 1,2,3 only"
      ],
      "metadata": {
        "colab": {
          "base_uri": "https://localhost:8080/",
          "height": 35
        },
        "id": "xJLjZ5RroZpR",
        "outputId": "388452f5-3d1d-4bb7-cbed-58792de99e56"
      },
      "execution_count": 24,
      "outputs": [
        {
          "output_type": "execute_result",
          "data": {
            "text/plain": [
              "'oha'"
            ],
            "application/vnd.google.colaboratory.intrinsic+json": {
              "type": "string"
            }
          },
          "metadata": {},
          "execution_count": 24
        }
      ]
    },
    {
      "cell_type": "markdown",
      "source": [
        "When you use slicing with the syntax a[start:] in Python, it returns a portion of the string starting from the specified index start until the end of the string."
      ],
      "metadata": {
        "id": "oue42X_PonbB"
      }
    },
    {
      "cell_type": "code",
      "source": [
        "a[2:] # it will start from 2 and goes till end if you don't write anything; Output is h to n"
      ],
      "metadata": {
        "colab": {
          "base_uri": "https://localhost:8080/",
          "height": 35
        },
        "id": "IEmovnw0onHb",
        "outputId": "528ace6d-d552-4bd4-8d33-a0a273d97fe0"
      },
      "execution_count": 25,
      "outputs": [
        {
          "output_type": "execute_result",
          "data": {
            "text/plain": [
              "'han'"
            ],
            "application/vnd.google.colaboratory.intrinsic+json": {
              "type": "string"
            }
          },
          "metadata": {},
          "execution_count": 25
        }
      ]
    },
    {
      "cell_type": "markdown",
      "source": [
        "When you use slicing with the syntax a[:end] in Python, it returns a portion of the string starting from the beginning until the specified index end, excluding the character at index end."
      ],
      "metadata": {
        "id": "1X5CLoXyozZh"
      }
    },
    {
      "cell_type": "code",
      "source": [
        "a[:2] # It will start from 0 and goes till 2!"
      ],
      "metadata": {
        "colab": {
          "base_uri": "https://localhost:8080/",
          "height": 35
        },
        "id": "iy5P-DKtlHo-",
        "outputId": "d7473faa-6fcd-48ea-efee-12247d39c60a"
      },
      "execution_count": 12,
      "outputs": [
        {
          "output_type": "execute_result",
          "data": {
            "text/plain": [
              "'Ro'"
            ],
            "application/vnd.google.colaboratory.intrinsic+json": {
              "type": "string"
            }
          },
          "metadata": {},
          "execution_count": 12
        }
      ]
    },
    {
      "cell_type": "markdown",
      "source": [
        "\n",
        "The capitalize() method in Python is used to capitalize the first character of a string while making the rest of the characters lowercase."
      ],
      "metadata": {
        "id": "FpGh2Pjto-wi"
      }
    },
    {
      "cell_type": "code",
      "source": [
        "a = \"rohan\"\n",
        "a.capitalize()"
      ],
      "metadata": {
        "colab": {
          "base_uri": "https://localhost:8080/",
          "height": 35
        },
        "id": "ZVcUskA8o-G4",
        "outputId": "9cb6b4bc-35ef-4cc4-925e-4c80c93a1b11"
      },
      "execution_count": 26,
      "outputs": [
        {
          "output_type": "execute_result",
          "data": {
            "text/plain": [
              "'Rohan'"
            ],
            "application/vnd.google.colaboratory.intrinsic+json": {
              "type": "string"
            }
          },
          "metadata": {},
          "execution_count": 26
        }
      ]
    },
    {
      "cell_type": "markdown",
      "source": [
        "The split() method is applied to the string \"rohan\", and since no delimiter is specified, it splits the string based on whitespace (which, in this case, doesn't exist). As a result, the entire string \"rohan\" becomes a single-element list ['rohan'].\n",
        "\n",
        "The type() function is then used to determine the type of the result. In this case, it will be a list. Therefore, type(a.split()) will return <class 'list'>."
      ],
      "metadata": {
        "id": "E1RCGjpTpj75"
      }
    },
    {
      "cell_type": "code",
      "source": [
        "a = \"rohan\"\n",
        "type(a.split())"
      ],
      "metadata": {
        "colab": {
          "base_uri": "https://localhost:8080/"
        },
        "id": "sA7_ny-IpYQS",
        "outputId": "22dcd0d5-d84e-4885-cc5d-ccd43feaa980"
      },
      "execution_count": 27,
      "outputs": [
        {
          "output_type": "execute_result",
          "data": {
            "text/plain": [
              "list"
            ]
          },
          "metadata": {},
          "execution_count": 27
        }
      ]
    },
    {
      "cell_type": "markdown",
      "source": [
        "\n",
        "If you want to specify a delimiter for the split() method, you can pass the desired delimiter as an argument.\n",
        "\n",
        "In this case, the string \"rohan\" will be split at each occurrence of the letter 'o', resulting in a list of substrings. The split_result would be ['r', 'han'].\n",
        "\n",
        "If you then check the type using type(split_result), it will return <class 'list'>."
      ],
      "metadata": {
        "id": "K7U4340tplnR"
      }
    },
    {
      "cell_type": "code",
      "source": [
        "a = \"rohan\"\n",
        "split_result = a.split('o')\n",
        "print(split_result)"
      ],
      "metadata": {
        "colab": {
          "base_uri": "https://localhost:8080/"
        },
        "id": "O_c3KJfXpycK",
        "outputId": "b20d3ad1-5d74-47db-8999-338eb9493f8a"
      },
      "execution_count": 31,
      "outputs": [
        {
          "output_type": "stream",
          "name": "stdout",
          "text": [
            "['r', 'han']\n"
          ]
        }
      ]
    },
    {
      "cell_type": "markdown",
      "source": [
        "\n",
        "In Python, the upper() method is used to convert all characters in a string to uppercase."
      ],
      "metadata": {
        "id": "0W7LTSgbqPeA"
      }
    },
    {
      "cell_type": "code",
      "source": [
        "a = \"rohan\"\n",
        "a.upper()"
      ],
      "metadata": {
        "colab": {
          "base_uri": "https://localhost:8080/",
          "height": 35
        },
        "id": "84os7RT6qQWZ",
        "outputId": "990dfa9d-4cf2-4059-90c4-bdc0ef8e887c"
      },
      "execution_count": 32,
      "outputs": [
        {
          "output_type": "execute_result",
          "data": {
            "text/plain": [
              "'ROHAN'"
            ],
            "application/vnd.google.colaboratory.intrinsic+json": {
              "type": "string"
            }
          },
          "metadata": {},
          "execution_count": 32
        }
      ]
    },
    {
      "cell_type": "markdown",
      "source": [
        "In Python, the lower() method is used to convert all characters in a string to lowercase."
      ],
      "metadata": {
        "id": "c-7Le7aNqbR5"
      }
    },
    {
      "cell_type": "code",
      "source": [
        "a = \"ROHAN\"\n",
        "a.lower()"
      ],
      "metadata": {
        "colab": {
          "base_uri": "https://localhost:8080/",
          "height": 35
        },
        "id": "dDhTtDhJqb7R",
        "outputId": "12de9527-6e87-45d4-f8d7-8c3ed2babc67"
      },
      "execution_count": 33,
      "outputs": [
        {
          "output_type": "execute_result",
          "data": {
            "text/plain": [
              "'rohan'"
            ],
            "application/vnd.google.colaboratory.intrinsic+json": {
              "type": "string"
            }
          },
          "metadata": {},
          "execution_count": 33
        }
      ]
    },
    {
      "cell_type": "markdown",
      "source": [
        "the string \"rohan\" is converted into a list of characters and then accesses the third element using 0-based indexing"
      ],
      "metadata": {
        "id": "_6DquBKGrA2f"
      }
    },
    {
      "cell_type": "code",
      "source": [
        "a = \"rohan\"\n",
        "b = list(a)  # Convert the string to a list of characters\n",
        "result = b[2]\n",
        "print(result)"
      ],
      "metadata": {
        "colab": {
          "base_uri": "https://localhost:8080/"
        },
        "id": "GbnUMKV6rGBC",
        "outputId": "65a71655-8e2b-4327-d78b-5567c2b15184"
      },
      "execution_count": 34,
      "outputs": [
        {
          "output_type": "stream",
          "name": "stdout",
          "text": [
            "h\n"
          ]
        }
      ]
    },
    {
      "cell_type": "markdown",
      "source": [
        "Your code a = \"rohan\" creates a string, and then b = list(a) converts that string into a list of individual characters."
      ],
      "metadata": {
        "id": "iwYDnb9ure2g"
      }
    },
    {
      "cell_type": "code",
      "source": [
        "a = \"rohan\"\n",
        "b = list(a)"
      ],
      "metadata": {
        "id": "KsnxzEjfrgXv"
      },
      "execution_count": null,
      "outputs": []
    },
    {
      "cell_type": "markdown",
      "source": [
        "The variable b will be a list containing individual characters from the string \"rohan\". If you print or inspect b, you'll get:"
      ],
      "metadata": {
        "id": "CStGK6gHrrjb"
      }
    },
    {
      "cell_type": "code",
      "source": [
        "print(b)"
      ],
      "metadata": {
        "colab": {
          "base_uri": "https://localhost:8080/"
        },
        "id": "rZsouF4friGf",
        "outputId": "db105103-6db4-437e-dce3-7dce8d6c701d"
      },
      "execution_count": 35,
      "outputs": [
        {
          "output_type": "stream",
          "name": "stdout",
          "text": [
            "['r', 'o', 'h', 'a', 'n']\n"
          ]
        }
      ]
    },
    {
      "cell_type": "markdown",
      "source": [
        "Now, each character from the original string has become a separate element in the list b."
      ],
      "metadata": {
        "id": "Z7XGmD3dr6o5"
      }
    },
    {
      "cell_type": "markdown",
      "source": [
        "Your code is using two different methods for string formatting: f-strings and the format() method. Both will produce the same output:"
      ],
      "metadata": {
        "id": "-AxOZULjr7iI"
      }
    },
    {
      "cell_type": "code",
      "source": [
        "name = \"Charlie\"\n",
        "age = 40\n",
        "\n",
        "# Using f-string\n",
        "print(f\"My name is {name} and I am {age} years old.\")\n",
        "\n",
        "# Using format() method\n",
        "print(\"My name is {} and I am {} years old.\".format(name, age))"
      ],
      "metadata": {
        "colab": {
          "base_uri": "https://localhost:8080/"
        },
        "id": "eVCv3-z0sXiO",
        "outputId": "847e8133-f55d-41a3-b174-e1422e596da6"
      },
      "execution_count": 37,
      "outputs": [
        {
          "output_type": "stream",
          "name": "stdout",
          "text": [
            "My name is Charlie and I am 40 years old.\n",
            "My name is Charlie and I am 40 years old.\n"
          ]
        }
      ]
    },
    {
      "cell_type": "markdown",
      "source": [
        "Your code is opening a file named \"output.txt\" in write mode (\"w\") and writing the string \"Hello, I am Atul and I am learning Python\" into the file. The with statement is used to ensure that the file is properly closed after writing. Here's your code:"
      ],
      "metadata": {
        "id": "hGHYrtVrsrYt"
      }
    },
    {
      "cell_type": "code",
      "source": [
        "with open(\"output.txt\", \"w\") as file:\n",
        "    file.write(\"Hello, I am Atul and I am learning Python\")"
      ],
      "metadata": {
        "id": "dxUjGxQxssth"
      },
      "execution_count": 40,
      "outputs": []
    },
    {
      "cell_type": "markdown",
      "source": [
        "This will create a file named \"output.txt\" (or overwrite it if it already exists) and write the specified content into it. The file will be automatically closed when the with block is exited."
      ],
      "metadata": {
        "id": "D63QO6J1s2YO"
      }
    },
    {
      "cell_type": "markdown",
      "source": [
        "If you want to check the contents of the file, you can open it again in read mode (\"r\"):"
      ],
      "metadata": {
        "id": "bxhzP9qDs6-O"
      }
    },
    {
      "cell_type": "code",
      "source": [
        "with open(\"output.txt\", \"r\") as file:\n",
        "    content = file.read()\n",
        "    print(content)"
      ],
      "metadata": {
        "colab": {
          "base_uri": "https://localhost:8080/"
        },
        "id": "-sHFfS3gs9dY",
        "outputId": "b553c0c2-306b-44d8-ba54-375a416d20f6"
      },
      "execution_count": 42,
      "outputs": [
        {
          "output_type": "stream",
          "name": "stdout",
          "text": [
            "Hello, I am Atul and I am learning Python\n"
          ]
        }
      ]
    },
    {
      "cell_type": "markdown",
      "source": [
        "Your code is asking the user to enter something using the input() function, storing the user's input in the variable user_input, and then printing the entered value. Here's your code:"
      ],
      "metadata": {
        "id": "Ip-jgLd4tlVH"
      }
    },
    {
      "cell_type": "code",
      "source": [
        "user_input = input(\"Please enter something: \")\n",
        "print(\"You entered:\", user_input)"
      ],
      "metadata": {
        "colab": {
          "base_uri": "https://localhost:8080/"
        },
        "id": "n_1t6RMrtpgP",
        "outputId": "1b847c57-16e6-4a4b-d25a-c1ab164c02a5"
      },
      "execution_count": 43,
      "outputs": [
        {
          "output_type": "stream",
          "name": "stdout",
          "text": [
            "Please enter something: Hi\n",
            "You entered: Hi\n"
          ]
        }
      ]
    },
    {
      "cell_type": "markdown",
      "source": [
        "Your code is using the with statement to open a file named \"William_Shakespeare.txt\" in read mode (\"r\"). It then reads the entire contents of the file using file.read() and prints the content. Here's your code:"
      ],
      "metadata": {
        "id": "BBAWSQ-AuIfW"
      }
    },
    {
      "cell_type": "code",
      "source": [
        "with open(\"William_Shakespeare.txt\", \"r\") as file:\n",
        " data = file.read()\n",
        " print(data)"
      ],
      "metadata": {
        "colab": {
          "base_uri": "https://localhost:8080/"
        },
        "id": "qBZjccymt59e",
        "outputId": "fb868a57-d2ed-44d2-d011-2a7d3db1776e"
      },
      "execution_count": 44,
      "outputs": [
        {
          "output_type": "stream",
          "name": "stdout",
          "text": [
            "William Shakespeare (1564-1616) was an English playwright, poet, and actor, widely regarded as one of the greatest writers in the English language and world literature. He was born in Stratford-upon-Avon, England, and his exact birthdate is believed to be around April 23, 1564.\n",
            "\n",
            "Shakespeare's works, which include 39 plays, 154 sonnets, and two long narrative poems, have had a profound and enduring impact on literature and the arts. His plays are categorized into three main genres: tragedies, comedies, and histories. Some of his most famous works include \"Romeo and Juliet,\" \"Hamlet,\" \"Macbeth,\" \"Othello,\" and \"A Midsummer Night's Dream.\"\n",
            "\n",
            "Shakespeare's writing is known for its poetic language, complex characters, and exploration of universal themes such as love, power, jealousy, and the human condition. Despite the passage of centuries, his works continue to be performed, studied, and adapted across the globe, making him a timeless and influential figure in the world of literature and drama.\n"
          ]
        }
      ]
    }
  ]
}